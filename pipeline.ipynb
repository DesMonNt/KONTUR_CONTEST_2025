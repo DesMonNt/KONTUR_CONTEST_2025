{
 "cells": [
  {
   "metadata": {
    "ExecuteTime": {
     "end_time": "2025-04-09T15:33:27.325325Z",
     "start_time": "2025-04-09T15:33:27.307193Z"
    }
   },
   "cell_type": "code",
   "source": [
    "import os\n",
    "import editdistance\n",
    "import torch\n",
    "import torchaudio\n",
    "import numpy as np\n",
    "import pandas as pd\n",
    "import matplotlib.pyplot as plt"
   ],
   "id": "b7f71e0057822b30",
   "outputs": [],
   "execution_count": 10
  },
  {
   "metadata": {
    "ExecuteTime": {
     "end_time": "2025-04-09T15:33:27.341340Z",
     "start_time": "2025-04-09T15:33:27.330835Z"
    }
   },
   "cell_type": "code",
   "source": [
    "DATASET_PATH = os.path.join('morse_dataset', 'morse_dataset')\n",
    "PREPROCESS = False \n",
    "TRAIN = True\n",
    "DEBUG = True"
   ],
   "id": "c0a52ce328efab2",
   "outputs": [],
   "execution_count": 11
  },
  {
   "cell_type": "code",
   "id": "initial_id",
   "metadata": {
    "collapsed": true,
    "ExecuteTime": {
     "end_time": "2025-04-09T15:33:27.483520Z",
     "start_time": "2025-04-09T15:33:27.357919Z"
    }
   },
   "source": [
    "from morse import MorsePreprocessing\n",
    "\n",
    "waveform, sample_rate = torchaudio.load(os.path.join(DATASET_PATH, '21600.opus'))\n",
    "\n",
    "transform = MorsePreprocessing()\n",
    "spec = transform(waveform)\n",
    "\n",
    "plt.figure(figsize=(10, 4))\n",
    "plt.imshow(spec[0,:,:].numpy(), aspect='auto', origin='lower', cmap='magma')\n",
    "plt.title('Spectrogram')\n",
    "plt.colorbar()\n",
    "plt.show()"
   ],
   "outputs": [
    {
     "data": {
      "text/plain": [
       "<Figure size 1000x400 with 2 Axes>"
      ],
      "image/png": "[encoded data removed]"
     },
     "metadata": {},
     "output_type": "display_data"
    }
   ],
   "execution_count": 12
  },
  {
   "metadata": {
    "ExecuteTime": {
     "end_time": "2025-04-09T15:33:28.048998Z",
     "start_time": "2025-04-09T15:33:27.500539Z"
    }
   },
   "cell_type": "code",
   "source": [
    "from preprocessing import preprocess_dataset\n",
    "\n",
    "df = pd.read_csv('train.csv')\n",
    "labels_dict = {\n",
    "        f\"{row['id']}\": row['message']\n",
    "        for _, row in df.iterrows()\n",
    "    }\n",
    "\n",
    "if PREPROCESS:\n",
    "    preprocess_dataset(DATASET_PATH, \"data_preprocessed\", labels_dict, transform)"
   ],
   "id": "12f1559e803af43f",
   "outputs": [],
   "execution_count": 13
  },
  {
   "metadata": {
    "ExecuteTime": {
     "end_time": "2025-04-09T15:33:28.112051Z",
     "start_time": "2025-04-09T15:33:28.065507Z"
    }
   },
   "cell_type": "code",
   "source": [
    "from preprocessing import PreprocessedDataset\n",
    "\n",
    "c2i = {\n",
    "    '<blank>': 0,\n",
    "    '.': 1,\n",
    "    '-': 2,\n",
    "    ' ': 3,\n",
    "    '/': 4\n",
    "}\n",
    "i2c = {v: k for k, v in c2i.items()}\n",
    "\n",
    "train_dataset = PreprocessedDataset('data_preprocessed/train', c2i)\n",
    "val_dataset = PreprocessedDataset('data_preprocessed/val', c2i)"
   ],
   "id": "ae01fe49d02c753f",
   "outputs": [],
   "execution_count": 14
  },
  {
   "metadata": {
    "ExecuteTime": {
     "end_time": "2025-04-09T15:33:28.143602Z",
     "start_time": "2025-04-09T15:33:28.129095Z"
    }
   },
   "cell_type": "code",
   "source": [
    "import torch\n",
    "from torch.nn.utils.rnn import pad_sequence\n",
    "\n",
    "def collate_fn(batch):\n",
    "    features, targets, input_lengths, target_lengths = zip(*batch)\n",
    "\n",
    "    features = [f.transpose(0, 1) for f in features]\n",
    "\n",
    "    padded_features = pad_sequence(features, batch_first=True)\n",
    "    padded_targets = torch.cat(targets)\n",
    "\n",
    "    input_lengths = torch.tensor([f.shape[0] for f in features], dtype=torch.long)\n",
    "    target_lengths = torch.tensor(target_lengths, dtype=torch.long)\n",
    "\n",
    "    return padded_features, padded_targets, input_lengths, target_lengths"
   ],
   "id": "753caff0d0384190",
   "outputs": [],
   "execution_count": 15
  },
  {
   "metadata": {
    "ExecuteTime": {
     "end_time": "2025-04-09T15:33:28.175125Z",
     "start_time": "2025-04-09T15:33:28.160619Z"
    }
   },
   "cell_type": "code",
   "source": [
    "from torch.utils.data import DataLoader\n",
    "\n",
    "train_loader = DataLoader(\n",
    "    train_dataset,\n",
    "    batch_size=256,\n",
    "    shuffle=True,\n",
    "    collate_fn=collate_fn,\n",
    ")\n",
    "\n",
    "val_loader = DataLoader(\n",
    "    val_dataset,\n",
    "    batch_size=256,\n",
    "    shuffle=True,\n",
    "    collate_fn=collate_fn,\n",
    ")"
   ],
   "id": "1c89b02669aaece4",
   "outputs": [],
   "execution_count": 16
  },
  {
   "metadata": {
    "ExecuteTime": {
     "end_time": "2025-04-09T15:33:28.206945Z",
     "start_time": "2025-04-09T15:33:28.193226Z"
    }
   },
   "cell_type": "code",
   "source": [
    "from morse import MorseConformer\n",
    "\n",
    "model = MorseConformer(\n",
    "    input_dim=513,\n",
    "    output_dim=5,\n",
    ").to('cuda')"
   ],
   "id": "e3efbcf75baf95c0",
   "outputs": [],
   "execution_count": 17
  },
  {
   "metadata": {
    "ExecuteTime": {
     "end_time": "2025-04-09T16:44:15.669420Z",
     "start_time": "2025-04-09T15:33:28.223465Z"
    }
   },
   "cell_type": "code",
   "source": [
    "from train import train\n",
    "from train import cross_val_scores\n",
    "\n",
    "if DEBUG:\n",
    "    scores = cross_val_scores(model, train_dataset, train, collate_fn, num_epochs=100, patience=5)\n",
    "    \n",
    "    print(f'Scores: {scores}')\n",
    "    print(f'Mean: {np.mean(scores)}')\n",
    "    print(f'Std: {np.std(scores)}')"
   ],
   "id": "96c011869e6b9175",
   "outputs": [
    {
     "name": "stderr",
     "output_type": "stream",
     "text": [
      "                                                                 "
     ]
    },
    {
     "name": "stdout",
     "output_type": "stream",
     "text": [
      "Scores: [-0.040991630684584376, -0.04299987945705652, -0.03939034249633551, -0.045070447586476804, -0.042568163853138684]\n",
      "Mean: -0.04220409281551838\n",
      "Std: 0.0019167195439047065\n"
     ]
    },
    {
     "name": "stderr",
     "output_type": "stream",
     "text": [
      "\r"
     ]
    }
   ],
   "execution_count": 18
  },
  {
   "metadata": {
    "ExecuteTime": {
     "end_time": "2025-04-09T17:06:30.688877Z",
     "start_time": "2025-04-09T16:44:15.833068Z"
    }
   },
   "cell_type": "code",
   "source": [
    "if TRAIN:\n",
    "    train(model=model, train_loader=train_loader, val_loader=val_loader, num_epochs=100, patience=5, log=True)\n",
    "\n",
    "model.load_state_dict(torch.load('models/best_model.pt', map_location='cuda'))"
   ],
   "id": "fc8b24860ab945c9",
   "outputs": [
    {
     "name": "stderr",
     "output_type": "stream",
     "text": [
      "                                                                  \r"
     ]
    },
    {
     "name": "stdout",
     "output_type": "stream",
     "text": [
      "[Epoch 1] train loss: 2.5759 | val loss: 1.2007\n"
     ]
    },
    {
     "name": "stderr",
     "output_type": "stream",
     "text": [
      "                                                                  \r"
     ]
    },
    {
     "name": "stdout",
     "output_type": "stream",
     "text": [
      "[Epoch 2] train loss: 1.1858 | val loss: 1.1882\n"
     ]
    },
    {
     "name": "stderr",
     "output_type": "stream",
     "text": [
      "                                                                  \r"
     ]
    },
    {
     "name": "stdout",
     "output_type": "stream",
     "text": [
      "[Epoch 3] train loss: 1.1699 | val loss: 1.1794\n"
     ]
    },
    {
     "name": "stderr",
     "output_type": "stream",
     "text": [
      "                                                                  \r"
     ]
    },
    {
     "name": "stdout",
     "output_type": "stream",
     "text": [
      "[Epoch 4] train loss: 1.1184 | val loss: 0.9327\n"
     ]
    },
    {
     "name": "stderr",
     "output_type": "stream",
     "text": [
      "                                                                  \r"
     ]
    },
    {
     "name": "stdout",
     "output_type": "stream",
     "text": [
      "[Epoch 5] train loss: 0.3462 | val loss: 0.1043\n"
     ]
    },
    {
     "name": "stderr",
     "output_type": "stream",
     "text": [
      "                                                                  \r"
     ]
    },
    {
     "name": "stdout",
     "output_type": "stream",
     "text": [
      "[Epoch 6] train loss: 0.0897 | val loss: 0.0720\n"
     ]
    },
    {
     "name": "stderr",
     "output_type": "stream",
     "text": [
      "                                                                  \r"
     ]
    },
    {
     "name": "stdout",
     "output_type": "stream",
     "text": [
      "[Epoch 7] train loss: 0.0641 | val loss: 0.0545\n"
     ]
    },
    {
     "name": "stderr",
     "output_type": "stream",
     "text": [
      "                                                                  \r"
     ]
    },
    {
     "name": "stdout",
     "output_type": "stream",
     "text": [
      "[Epoch 8] train loss: 0.0536 | val loss: 0.0495\n"
     ]
    },
    {
     "name": "stderr",
     "output_type": "stream",
     "text": [
      "                                                                  \r"
     ]
    },
    {
     "name": "stdout",
     "output_type": "stream",
     "text": [
      "[Epoch 9] train loss: 0.0471 | val loss: 0.0478\n"
     ]
    },
    {
     "name": "stderr",
     "output_type": "stream",
     "text": [
      "                                                                   \r"
     ]
    },
    {
     "name": "stdout",
     "output_type": "stream",
     "text": [
      "[Epoch 10] train loss: 0.0430 | val loss: 0.0417\n"
     ]
    },
    {
     "name": "stderr",
     "output_type": "stream",
     "text": [
      "                                                                   \r"
     ]
    },
    {
     "name": "stdout",
     "output_type": "stream",
     "text": [
      "[Epoch 11] train loss: 0.0393 | val loss: 0.0403\n"
     ]
    },
    {
     "name": "stderr",
     "output_type": "stream",
     "text": [
      "                                                                   \r"
     ]
    },
    {
     "name": "stdout",
     "output_type": "stream",
     "text": [
      "[Epoch 12] train loss: 0.0364 | val loss: 0.0391\n"
     ]
    },
    {
     "name": "stderr",
     "output_type": "stream",
     "text": [
      "                                                                   \r"
     ]
    },
    {
     "name": "stdout",
     "output_type": "stream",
     "text": [
      "[Epoch 13] train loss: 0.0343 | val loss: 0.0376\n"
     ]
    },
    {
     "name": "stderr",
     "output_type": "stream",
     "text": [
      "                                                                   \r"
     ]
    },
    {
     "name": "stdout",
     "output_type": "stream",
     "text": [
      "[Epoch 14] train loss: 0.0325 | val loss: 0.0381\n"
     ]
    },
    {
     "name": "stderr",
     "output_type": "stream",
     "text": [
      "                                                                   \r"
     ]
    },
    {
     "name": "stdout",
     "output_type": "stream",
     "text": [
      "[Epoch 15] train loss: 0.0303 | val loss: 0.0369\n"
     ]
    },
    {
     "name": "stderr",
     "output_type": "stream",
     "text": [
      "                                                                   \r"
     ]
    },
    {
     "name": "stdout",
     "output_type": "stream",
     "text": [
      "[Epoch 16] train loss: 0.0292 | val loss: 0.0360\n"
     ]
    },
    {
     "name": "stderr",
     "output_type": "stream",
     "text": [
      "                                                                   \r"
     ]
    },
    {
     "name": "stdout",
     "output_type": "stream",
     "text": [
      "[Epoch 17] train loss: 0.0278 | val loss: 0.0372\n"
     ]
    },
    {
     "name": "stderr",
     "output_type": "stream",
     "text": [
      "                                                                   \r"
     ]
    },
    {
     "name": "stdout",
     "output_type": "stream",
     "text": [
      "[Epoch 18] train loss: 0.0267 | val loss: 0.0365\n"
     ]
    },
    {
     "name": "stderr",
     "output_type": "stream",
     "text": [
      "                                                                   \r"
     ]
    },
    {
     "name": "stdout",
     "output_type": "stream",
     "text": [
      "[Epoch 19] train loss: 0.0259 | val loss: 0.0354\n"
     ]
    },
    {
     "name": "stderr",
     "output_type": "stream",
     "text": [
      "                                                                   \r"
     ]
    },
    {
     "name": "stdout",
     "output_type": "stream",
     "text": [
      "[Epoch 20] train loss: 0.0246 | val loss: 0.0352\n"
     ]
    },
    {
     "name": "stderr",
     "output_type": "stream",
     "text": [
      "                                                                   \r"
     ]
    },
    {
     "name": "stdout",
     "output_type": "stream",
     "text": [
      "[Epoch 21] train loss: 0.0232 | val loss: 0.0352\n"
     ]
    },
    {
     "name": "stderr",
     "output_type": "stream",
     "text": [
      "                                                                   \r"
     ]
    },
    {
     "name": "stdout",
     "output_type": "stream",
     "text": [
      "[Epoch 22] train loss: 0.0227 | val loss: 0.0357\n"
     ]
    },
    {
     "name": "stderr",
     "output_type": "stream",
     "text": [
      "                                                                   \r"
     ]
    },
    {
     "name": "stdout",
     "output_type": "stream",
     "text": [
      "[Epoch 23] train loss: 0.0216 | val loss: 0.0347\n"
     ]
    },
    {
     "name": "stderr",
     "output_type": "stream",
     "text": [
      "                                                                   \r"
     ]
    },
    {
     "name": "stdout",
     "output_type": "stream",
     "text": [
      "[Epoch 24] train loss: 0.0213 | val loss: 0.0358\n"
     ]
    },
    {
     "name": "stderr",
     "output_type": "stream",
     "text": [
      "                                                                   \r"
     ]
    },
    {
     "name": "stdout",
     "output_type": "stream",
     "text": [
      "[Epoch 25] train loss: 0.0209 | val loss: 0.0351\n"
     ]
    },
    {
     "name": "stderr",
     "output_type": "stream",
     "text": [
      "                                                                   \r"
     ]
    },
    {
     "name": "stdout",
     "output_type": "stream",
     "text": [
      "[Epoch 26] train loss: 0.0198 | val loss: 0.0347\n"
     ]
    },
    {
     "name": "stderr",
     "output_type": "stream",
     "text": [
      "                                                                   \r"
     ]
    },
    {
     "name": "stdout",
     "output_type": "stream",
     "text": [
      "[Epoch 27] train loss: 0.0189 | val loss: 0.0367\n"
     ]
    },
    {
     "name": "stderr",
     "output_type": "stream",
     "text": [
      "                                                                   "
     ]
    },
    {
     "name": "stdout",
     "output_type": "stream",
     "text": [
      "[Epoch 28] train loss: 0.0185 | val loss: 0.0355\n"
     ]
    },
    {
     "name": "stderr",
     "output_type": "stream",
     "text": [
      "\r"
     ]
    },
    {
     "data": {
      "text/plain": [
       "<All keys matched successfully>"
      ]
     },
     "execution_count": 19,
     "metadata": {},
     "output_type": "execute_result"
    }
   ],
   "execution_count": 19
  },
  {
   "metadata": {
    "ExecuteTime": {
     "end_time": "2025-04-09T17:06:31.125831Z",
     "start_time": "2025-04-09T17:06:30.862379Z"
    }
   },
   "cell_type": "code",
   "source": [
    "from torchaudio.models.decoder import ctc_decoder\n",
    "\n",
    "labels = list(c2i.keys())\n",
    "decoder = ctc_decoder(\n",
    "    lexicon=None,\n",
    "    tokens=labels,\n",
    "    beam_size=10,\n",
    "    blank_token='<blank>',\n",
    "    unk_word='<blank>',\n",
    "    sil_token='<blank>'\n",
    ")"
   ],
   "id": "a75697141d27e44d",
   "outputs": [],
   "execution_count": 20
  },
  {
   "metadata": {
    "ExecuteTime": {
     "end_time": "2025-04-09T17:07:51.531001Z",
     "start_time": "2025-04-09T17:06:31.142243Z"
    }
   },
   "cell_type": "code",
   "source": [
    "from preprocessing import preprocess_audio\n",
    "from preprocessing import decode_from_morse\n",
    "from torch.nn.functional import log_softmax\n",
    "\n",
    "def submit():\n",
    "    model.eval()\n",
    "    submission = []\n",
    "    \n",
    "    target_files = sorted([\n",
    "        f for f in os.listdir(DATASET_PATH)\n",
    "        if f.endswith('.opus') and 30001 <= int(os.path.splitext(f)[0]) <= 35000\n",
    "    ], key=lambda x: int(os.path.splitext(x)[0]))\n",
    "    \n",
    "    with torch.no_grad():\n",
    "        for fname in target_files:\n",
    "            path = os.path.join(DATASET_PATH, fname)\n",
    "            mel = preprocess_audio(path, transform)\n",
    "            mel = mel.transpose(0, 1).unsqueeze(0).to('cuda')\n",
    "            input_len = torch.tensor([mel.shape[1]], device='cuda')\n",
    "    \n",
    "            logits = model(mel)\n",
    "            log_probs = log_softmax(logits, dim=-1)\n",
    "            log_probs_btc = log_probs.transpose(0, 1)\n",
    "            \n",
    "            decoded_output = decoder(log_probs_btc.cpu(), input_len.cpu())\n",
    "            decoded_morse = ''.join([labels[token.item()] for token in decoded_output[0][0].tokens])\n",
    "            decoded_text = decode_from_morse(decoded_morse)\n",
    "    \n",
    "            submission.append({\n",
    "                \"id\": fname,\n",
    "                \"message\": decoded_text\n",
    "            })\n",
    "    \n",
    "    df = pd.DataFrame(submission)\n",
    "    df.to_csv(\"submission.csv\", index=False)\n",
    "\n",
    "submit()"
   ],
   "id": "3b3484340a68c0c9",
   "outputs": [],
   "execution_count": 21
  },
  {
   "metadata": {
    "ExecuteTime": {
     "end_time": "2025-04-09T17:08:04.031222Z",
     "start_time": "2025-04-09T17:07:51.547513Z"
    }
   },
   "cell_type": "code",
   "source": [
    "from torch.nn.functional import log_softmax\n",
    "from torch.nn import CTCLoss\n",
    "\n",
    "model.eval()\n",
    "ctc_loss_fn = CTCLoss(blank=0, zero_infinity=True)\n",
    "val_losses = []\n",
    "levenshtein_scores = []\n",
    "\n",
    "with torch.no_grad():\n",
    "    for features, targets, input_lengths, target_lengths in val_loader:\n",
    "        features = features.to('cuda')\n",
    "        targets = targets.to('cuda')\n",
    "        input_lengths = input_lengths.to('cuda')\n",
    "        target_lengths = target_lengths.to('cuda')\n",
    "        \n",
    "        log_probs = model(features, input_lengths)\n",
    "        log_probs = log_softmax(log_probs, dim=-1)\n",
    "        \n",
    "        loss = ctc_loss_fn(log_probs, targets, input_lengths, target_lengths)\n",
    "        val_losses.append(loss.item())\n",
    "        \n",
    "        log_probs_btc = log_probs.transpose(0, 1)\n",
    "        \n",
    "        decoded_output = decoder(log_probs_btc.cpu().contiguous(), input_lengths.cpu())\n",
    "        decoded_batch = [''.join([labels[token.item()] for token in hypo[0].tokens]) for hypo in decoded_output]\n",
    "        target_batch = []\n",
    "        start = 0\n",
    "        \n",
    "        for length in target_lengths:\n",
    "            length = int(length)\n",
    "            target_seq = targets[start:start + length]\n",
    "            text = ''.join([i2c[int(c)] for c in target_seq])\n",
    "            target_batch.append(text)\n",
    "            start += length\n",
    "        \n",
    "        for pred, true in zip(decoded_batch, target_batch):\n",
    "            dist = editdistance.eval(decode_from_morse(pred), decode_from_morse(true))\n",
    "            levenshtein_scores.append(dist)\n",
    "\n",
    "mean_val_loss = sum(val_losses) / len(val_loader)\n",
    "mean_levenshtein = sum(levenshtein_scores) / len(levenshtein_scores)\n",
    "\n",
    "print(f\"Val CTC Loss: {mean_val_loss:.4f}\")\n",
    "print(f\"Mean Levenshtein: {mean_levenshtein:.4f}\")"
   ],
   "id": "4a43c3c7e71ddcac",
   "outputs": [
    {
     "name": "stdout",
     "output_type": "stream",
     "text": [
      "Val CTC Loss: 0.0349\n",
      "Mean Levenshtein: 0.3782\n"
     ]
    }
   ],
   "execution_count": 22
  },
  {
   "metadata": {
    "ExecuteTime": {
     "end_time": "2025-04-09T17:08:25.195731Z",
     "start_time": "2025-04-09T17:08:24.631520Z"
    }
   },
   "cell_type": "code",
   "source": [
    "total_files = 35000\n",
    "sr = 8000\n",
    "duration_sec = 11\n",
    "max_samples = sr * duration_sec\n",
    "\n",
    "for file in range(total_files - 16, total_files + 1):\n",
    "    path = os.path.join(DATASET_PATH, f'{file}.opus')\n",
    "\n",
    "    waveform, sample_rate = torchaudio.load(path)\n",
    "    waveform = waveform[:, :max_samples]\n",
    "\n",
    "    mel = transform(waveform).squeeze(0)\n",
    "    mel = mel.transpose(0, 1).unsqueeze(0).to('cuda')\n",
    "    input_len = torch.tensor([mel.shape[1]], device='cuda')\n",
    "\n",
    "    logits = model(mel)\n",
    "    log_probs = log_softmax(logits, dim=-1)\n",
    "    log_probs_btc = log_probs.transpose(0, 1)\n",
    "\n",
    "    decoded_output = decoder(log_probs_btc.cpu(), input_len.cpu())\n",
    "    decoded_morse = ''.join([labels[token.item()] for token in decoded_output[0][0].tokens])\n",
    "    decoded_text = decode_from_morse(decoded_morse)\n",
    "\n",
    "    print(f\"{file}.opus,{decoded_text}\")"
   ],
   "id": "d8a2749f118bb713",
   "outputs": [
    {
     "name": "stdout",
     "output_type": "stream",
     "text": [
      "34984.opus,ДАМАМНОТИРСЫ УМЦ\n",
      "34985.opus,? ЬСВЕД?ЧВНТИ ЯМ?Ы\n",
      "34986.opus,АНХ ВСОЕГЬ Р ВКТДАМИРК\n",
      "34987.opus,ИЛ ДАСДП ЬСОЕМУНТИ ИГА\n",
      "34988.opus,УЬТКП ДСЯНКМЫОЦ ИМК\n",
      "34989.opus,КНОЬКМ СОФЫМОП ЬС?\n",
      "34990.opus,ИЛ ЬСОЕНДМЫМ ЙЫНУС ЙТ\n",
      "34991.opus,ИЛ ДАСДП ОСЮВНЫМ НЮ\n",
      "34992.opus,АС АТ ИСЧТИ КГЖБПГ\n",
      "34993.opus,2?Л МЫЛИМЕТ Т\n",
      "34994.opus,АН ЖНОЕСУ ЬТКТВНЖМ М\n",
      "34995.opus,ОДЦЮП ЬСВВТКЧМД?О\n",
      "34996.opus,ОРСКС ИЛ ДАСДП ЬСОЕМИ\n",
      "34997.opus,ОИСЧТИ СЕЬК?ЗП ЮН ДН\n",
      "34998.opus,ТОЫМ ДЛ ЬСЧТЫНТ\n",
      "34999.opus,ОДТЕ ?ЫАЯН МНКМЕ М\n",
      "35000.opus,Л?Я ЬТКТВНЖМ\n"
     ]
    }
   ],
   "execution_count": 24
  }
 ],
 "metadata": {
  "kernelspec": {
   "display_name": "Python 3",
   "language": "python",
   "name": "python3"
  },
  "language_info": {
   "codemirror_mode": {
    "name": "ipython",
    "version": 2
   },
   "file_extension": ".py",
   "mimetype": "text/x-python",
   "name": "python",
   "nbconvert_exporter": "python",
   "pygments_lexer": "ipython2",
   "version": "2.7.6"
  }
 },
 "nbformat": 4,
 "nbformat_minor": 5
}
